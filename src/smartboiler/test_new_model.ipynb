{
 "cells": [
  {
   "cell_type": "code",
   "execution_count": null,
   "metadata": {},
   "outputs": [],
   "source": [
    "from data_handler import DataHandler\n",
    "from forecast import Forecast\n",
    "from datetime import datetime, timedelta\n",
    "import matplotlib.pyplot as plt\n",
    "import numpy as np\n",
    "import pandas as pd\n",
    "dataHandler = DataHandler(\n",
    "influx_id=\"localhost\",\n",
    "db_name=\"smart_home_zukalovi\",\n",
    "db_username=\"root\",\n",
    "db_password=\"root\",\n",
    "relay_entity_id=\"shelly1pm_84cca8b07eae\",\n",
    "relay_power_entity_id=\"shelly1pm_84cca8b07eae_power\",\n",
    "tmp_boiler_case_entity_id=\"esphome_web_c771e8_tmp3\",\n",
    "tmp_output_water_entity_id=\"esphome_web_c771e8_ntc_temperature_b_constant_2\",\n",
    "start_of_data=datetime(2023, 11, 1, 0, 0, 0, 0))\n",
    "left = datetime(2024,1,1,8,0,0)\n",
    "right = datetime(2024,1,5,19,0,0)\n",
    "data = dataHandler.get_actual_boiler_stats(group_by_time_interval=\"10m\",limit=300, left_time_interval=left, right_time_interval=right)\n",
    "data_for_prediction = dataHandler.get_data_for_prediction(left_time_interval=left, right_time_interval=right)"
   ]
  }
 ],
 "metadata": {
  "kernelspec": {
   "display_name": "Python 3",
   "language": "python",
   "name": "python3"
  },
  "language_info": {
   "name": "python",
   "version": "3.9.6"
  }
 },
 "nbformat": 4,
 "nbformat_minor": 2
}
